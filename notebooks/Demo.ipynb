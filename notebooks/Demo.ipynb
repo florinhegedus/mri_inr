{
 "cells": [
  {
   "cell_type": "markdown",
   "id": "5c55ef15-8719-4f4a-8cf5-965f6dd3742a",
   "metadata": {},
   "source": [
    "### Imports"
   ]
  },
  {
   "cell_type": "code",
   "execution_count": 1,
   "id": "bd15b349-e638-45cf-bbc7-81e3bcd3bba1",
   "metadata": {},
   "outputs": [],
   "source": [
    "import nibabel as nib\n",
    "import matplotlib.pyplot as plt\n",
    "\n",
    "import sys\n",
    "import os\n",
    "sys.path.append(os.path.abspath('../'))\n",
    "from mri import MRI\n",
    "\n",
    "\n",
    "%load_ext autoreload\n",
    "%autoreload 2"
   ]
  },
  {
   "cell_type": "markdown",
   "id": "fed227f6-7ec4-4c02-a946-16b561ec109e",
   "metadata": {},
   "source": [
    "### Data"
   ]
  },
  {
   "cell_type": "code",
   "execution_count": 2,
   "id": "eaa6c43e-75df-4374-b349-5e1cf3044cc3",
   "metadata": {},
   "outputs": [
    {
     "name": "stderr",
     "output_type": "stream",
     "text": [
      "00:35:02 | Reading data from ../../../hcp1200/996782/T1w_acpc_dc_restore_brain_downsample_factor_8.nii.gz\n"
     ]
    }
   ],
   "source": [
    "# Load the MRI data from the file\n",
    "file_path = '../../../hcp1200/996782/T1w_acpc_dc_restore_brain_downsample_factor_8.nii.gz'\n",
    "mri = MRI(file_path)"
   ]
  },
  {
   "cell_type": "code",
   "execution_count": 3,
   "id": "eabd5ae6-e374-4e51-a032-9f179ffc6226",
   "metadata": {},
   "outputs": [
    {
     "name": "stderr",
     "output_type": "stream",
     "text": [
      "00:35:02 | Displaying relevant brain slices\n"
     ]
    },
    {
     "data": {
      "image/png": "[encoded data removed]",
      "text/plain": [
       "<Figure size 2400x800 with 3 Axes>"
      ]
     },
     "metadata": {},
     "output_type": "display_data"
    }
   ],
   "source": [
    "mri.display_relevant_brain_slices()"
   ]
  },
  {
   "cell_type": "code",
   "execution_count": 4,
   "id": "cb4f97c2-aa1c-408d-9dc3-e30a2c785398",
   "metadata": {},
   "outputs": [
    {
     "name": "stdout",
     "output_type": "stream",
     "text": [
      "Voxel grid size: (34, 40, 34)\n",
      "Total number of points in MRI: 46240\n"
     ]
    }
   ],
   "source": [
    "print(f\"Voxel grid size: {mri.data.shape}\")\n",
    "print(f\"Total number of points in MRI: {mri.data.flatten().shape[0]}\")"
   ]
  },
  {
   "cell_type": "code",
   "execution_count": 5,
   "id": "70d6bdd8-406e-4538-8bd1-e1b17c945180",
   "metadata": {},
   "outputs": [],
   "source": [
    "import torch\n",
    "from nn import NeuralNet\n",
    "from utils import set_seed, get_device"
   ]
  },
  {
   "cell_type": "code",
   "execution_count": 6,
   "id": "8ecca696-15df-4557-bb33-2fc4474a3c38",
   "metadata": {
    "tags": []
   },
   "outputs": [
    {
     "name": "stdout",
     "output_type": "stream",
     "text": [
      "------------------------------------------------------------\n",
      "NVIDIA GeForce RTX 3050 Ti Laptop GPU\n",
      "Memory Usage:\n",
      "\tAllocated: 0.0 GB\n",
      "\tReserved:  0.0 GB\n",
      "------------------------------------------------------------\n"
     ]
    }
   ],
   "source": [
    "set_seed()\n",
    "device = get_device()"
   ]
  },
  {
   "cell_type": "code",
   "execution_count": 7,
   "id": "bf9896c7-1074-450e-b547-ccfb2a3f9162",
   "metadata": {
    "tags": []
   },
   "outputs": [],
   "source": [
    "# Define the dimensions of the MRI\n",
    "x_dim, y_dim, z_dim = mri.data.shape\n",
    "\n",
    "# Create range vectors for each dimension\n",
    "x_range = torch.arange(x_dim)\n",
    "y_range = torch.arange(y_dim)\n",
    "z_range = torch.arange(z_dim)\n",
    "\n",
    "# Create a mesh grid\n",
    "x_grid, y_grid, z_grid = torch.meshgrid(x_range, y_range, z_range, indexing='ij')\n",
    "\n",
    "# Combine and reshape the grids to create a list of coordinates\n",
    "voxel_grid = torch.stack((x_grid, y_grid, z_grid), dim=-1).reshape(-1, 3)"
   ]
  },
  {
   "cell_type": "code",
   "execution_count": 8,
   "id": "faaf722e-392d-4674-88fe-5a3db928a50c",
   "metadata": {},
   "outputs": [
    {
     "data": {
      "text/plain": [
       "tensor([[ 0,  0,  0],\n",
       "        [ 0,  0,  1],\n",
       "        [ 0,  0,  2],\n",
       "        ...,\n",
       "        [33, 39, 31],\n",
       "        [33, 39, 32],\n",
       "        [33, 39, 33]])"
      ]
     },
     "execution_count": 8,
     "metadata": {},
     "output_type": "execute_result"
    }
   ],
   "source": [
    "voxel_grid"
   ]
  },
  {
   "cell_type": "code",
   "execution_count": 9,
   "id": "e636de55-c5c7-499d-a0c0-0f8d178af263",
   "metadata": {
    "tags": []
   },
   "outputs": [],
   "source": [
    "def normalize_coordinates(grid):\n",
    "    \"\"\"\n",
    "    Normalize the coordinates of the grid to be between -1 and 1.\n",
    "\n",
    "    :param grid: The coordinate grid (tensor of shape (N, 3))\n",
    "    :return: Normalized grid (tensor of shape (N, 3))\n",
    "    \"\"\"\n",
    "    # Find the maximum dimension sizes\n",
    "    max_values = grid.max(0)[0]\n",
    "\n",
    "    # Normalize the grid\n",
    "    normalized_grid = (grid - max_values / 2) / (max_values / 2)\n",
    "    return normalized_grid"
   ]
  },
  {
   "cell_type": "code",
   "execution_count": 10,
   "id": "76c46ae0-d29d-4119-a46e-2737913d6ee9",
   "metadata": {},
   "outputs": [],
   "source": [
    "def fourier_feature_mapping(P, L):\n",
    "    \"\"\"\n",
    "    Fourier feature mapping for a point P.\n",
    "\n",
    "    :param P: Input point (tensor of shape (..., 3))\n",
    "    :param L: The number of frequencies to use in the Fourier feature mapping\n",
    "    :return: Fourier features of P (tensor of shape (..., 2L))\n",
    "    \"\"\"\n",
    "    # Sample B from Gaussian distribution\n",
    "    B = torch.randn(L, 3)\n",
    "\n",
    "    # Compute 2πBP (shape will be (..., L, 3))\n",
    "    BP = 2 * torch.pi * torch.matmul(P.float(), B.T)\n",
    "\n",
    "    # Concatenate cos and sin features\n",
    "    fourier_features = torch.cat([torch.cos(BP), torch.sin(BP)], dim=-1)\n",
    "\n",
    "    return fourier_features"
   ]
  },
  {
   "cell_type": "code",
   "execution_count": 11,
   "id": "c0479fdc-4441-4068-9846-278a99dd49f5",
   "metadata": {},
   "outputs": [],
   "source": [
    "# Assuming coordinate_grid is your meshgrid with shape (N, 3), where N is the number of points\n",
    "normalized_grid = normalize_coordinates(voxel_grid)"
   ]
  },
  {
   "cell_type": "code",
   "execution_count": 12,
   "id": "a805765f-fe75-47bf-9d4c-3b170f085b22",
   "metadata": {
    "tags": []
   },
   "outputs": [],
   "source": [
    "# Fourier feature mapping for the normalized grid\n",
    "L = 128  # Number of frequencies\n",
    "features_grid = fourier_feature_mapping(normalized_grid, L)"
   ]
  },
  {
   "cell_type": "code",
   "execution_count": 13,
   "id": "adb80562-9a3e-4b43-950a-84b8c69ce61b",
   "metadata": {
    "tags": []
   },
   "outputs": [
    {
     "data": {
      "text/plain": [
       "torch.Size([46240, 256])"
      ]
     },
     "execution_count": 13,
     "metadata": {},
     "output_type": "execute_result"
    }
   ],
   "source": [
    "features_grid.shape"
   ]
  },
  {
   "cell_type": "code",
   "execution_count": 14,
   "id": "104417b5-8d7e-4307-a403-f2096e16de53",
   "metadata": {
    "tags": []
   },
   "outputs": [
    {
     "data": {
      "text/plain": [
       "tensor([[-0.9837,  0.7830,  0.7747,  ...,  0.9772, -0.4279, -0.7624],\n",
       "        [-0.9964,  0.9180,  0.6914,  ...,  0.9098, -0.4868, -0.8171],\n",
       "        [-0.9999,  0.9896,  0.5978,  ...,  0.8008, -0.5436, -0.8652],\n",
       "        ...,\n",
       "        [-0.9999,  0.9896,  0.5978,  ..., -0.8008,  0.5436,  0.8652],\n",
       "        [-0.9964,  0.9180,  0.6914,  ..., -0.9098,  0.4868,  0.8171],\n",
       "        [-0.9837,  0.7830,  0.7747,  ..., -0.9772,  0.4279,  0.7624]])"
      ]
     },
     "execution_count": 14,
     "metadata": {},
     "output_type": "execute_result"
    }
   ],
   "source": [
    "features_grid"
   ]
  },
  {
   "cell_type": "markdown",
   "id": "4fb8a6d8-146e-480d-bb59-8fbce015a2b9",
   "metadata": {},
   "source": [
    "### Training"
   ]
  },
  {
   "cell_type": "code",
   "execution_count": 21,
   "id": "4509fdea-99b6-40a6-8371-08fe5081c3ca",
   "metadata": {
    "tags": []
   },
   "outputs": [
    {
     "name": "stdout",
     "output_type": "stream",
     "text": [
      "torch.Size([46240, 256])\n"
     ]
    },
    {
     "data": {
      "text/plain": [
       "torch.Size([2500, 1])"
      ]
     },
     "execution_count": 21,
     "metadata": {},
     "output_type": "execute_result"
    }
   ],
   "source": [
    "net = NeuralNet()\n",
    "print(features_grid.shape)\n",
    "\n",
    "net(features_grid[:2500]).shape"
   ]
  },
  {
   "cell_type": "code",
   "execution_count": 26,
   "id": "d880f45c-6678-466a-b228-d18e20a7bc54",
   "metadata": {
    "tags": []
   },
   "outputs": [],
   "source": [
    "indices = torch.randperm(features_grid.shape[0])"
   ]
  },
  {
   "cell_type": "code",
   "execution_count": 33,
   "id": "68dce6f2-39ea-4fc1-9fbf-2460183afa5e",
   "metadata": {
    "tags": []
   },
   "outputs": [
    {
     "data": {
      "text/plain": [
       "tensor([[0.4946],\n",
       "        [0.4704],\n",
       "        [0.4741],\n",
       "        ...,\n",
       "        [0.4839],\n",
       "        [0.5134],\n",
       "        [0.3441]], grad_fn=<SigmoidBackward0>)"
      ]
     },
     "execution_count": 33,
     "metadata": {},
     "output_type": "execute_result"
    }
   ],
   "source": [
    "batch_size = 2500\n",
    "net(features_grid[indices[:batch_size]])"
   ]
  },
  {
   "cell_type": "code",
   "execution_count": 63,
   "id": "2b646827-d0a2-45dd-a601-1d133912f85d",
   "metadata": {
    "tags": []
   },
   "outputs": [
    {
     "data": {
      "text/plain": [
       "-0.0"
      ]
     },
     "execution_count": 63,
     "metadata": {},
     "output_type": "execute_result"
    }
   ],
   "source": [
    "# Get intensity value for a point in the voxel grid\n",
    "voxel_grid_np = voxel_grid.numpy()\n",
    "point = tuple(voxel_grid_np[0])\n",
    "mri.data[point]"
   ]
  },
  {
   "cell_type": "code",
   "execution_count": 65,
   "id": "59e29bac-8f59-4f0f-91a4-b6f71040d7ee",
   "metadata": {
    "tags": []
   },
   "outputs": [
    {
     "data": {
      "text/plain": [
       "(46240,)"
      ]
     },
     "execution_count": 65,
     "metadata": {},
     "output_type": "execute_result"
    }
   ],
   "source": [
    "mri.data.flatten().shape"
   ]
  },
  {
   "cell_type": "code",
   "execution_count": null,
   "id": "0d517e93-d0cb-4a75-8ce7-3abb4ea5f9a2",
   "metadata": {},
   "outputs": [],
   "source": []
  }
 ],
 "metadata": {
  "kernelspec": {
   "display_name": "Python 3 (ipykernel)",
   "language": "python",
   "name": "python3"
  },
  "language_info": {
   "codemirror_mode": {
    "name": "ipython",
    "version": 3
   },
   "file_extension": ".py",
   "mimetype": "text/x-python",
   "name": "python",
   "nbconvert_exporter": "python",
   "pygments_lexer": "ipython3",
   "version": "3.10.13"
  }
 },
 "nbformat": 4,
 "nbformat_minor": 5
}
